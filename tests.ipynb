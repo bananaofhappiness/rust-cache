{
 "cells": [
  {
   "cell_type": "code",
   "execution_count": 10,
   "id": "dbc69961",
   "metadata": {},
   "outputs": [],
   "source": [
    "from functools import lru_cache\n",
    "from rust_cache import rust_cache\n",
    "import time"
   ]
  },
  {
   "cell_type": "code",
   "execution_count": 11,
   "id": "7b488857",
   "metadata": {},
   "outputs": [],
   "source": [
    "def heavy_function(x):\n",
    "    time.sleep(2)  # Simulate a heavy computation\n",
    "    return x * x"
   ]
  },
  {
   "cell_type": "code",
   "execution_count": 12,
   "id": "6c86f483",
   "metadata": {},
   "outputs": [],
   "source": [
    "@rust_cache\n",
    "def heavy_function_rust(x):\n",
    "    return heavy_function(x)"
   ]
  },
  {
   "cell_type": "code",
   "execution_count": 13,
   "id": "85d8011e",
   "metadata": {},
   "outputs": [],
   "source": [
    "@lru_cache\n",
    "def heavy_function_lru(x):\n",
    "    return heavy_function(x)"
   ]
  },
  {
   "cell_type": "code",
   "execution_count": 14,
   "id": "5d6c704f",
   "metadata": {},
   "outputs": [],
   "source": [
    "# %timeit heavy_function(10)"
   ]
  },
  {
   "cell_type": "code",
   "execution_count": 15,
   "id": "bcf6d0ec",
   "metadata": {},
   "outputs": [
    {
     "data": {
      "text/plain": [
       "100"
      ]
     },
     "execution_count": 15,
     "metadata": {},
     "output_type": "execute_result"
    }
   ],
   "source": [
    "heavy_function_lru(10)"
   ]
  },
  {
   "cell_type": "code",
   "execution_count": 16,
   "id": "8d8cfb0e",
   "metadata": {},
   "outputs": [
    {
     "data": {
      "text/plain": [
       "100"
      ]
     },
     "execution_count": 16,
     "metadata": {},
     "output_type": "execute_result"
    }
   ],
   "source": [
    "heavy_function_rust(10)"
   ]
  },
  {
   "cell_type": "code",
   "execution_count": 17,
   "id": "9d9002de",
   "metadata": {},
   "outputs": [
    {
     "name": "stdout",
     "output_type": "stream",
     "text": [
      "31.8 ns ± 0.242 ns per loop (mean ± std. dev. of 7 runs, 10,000,000 loops each)\n"
     ]
    }
   ],
   "source": [
    "%timeit heavy_function_lru(10)"
   ]
  },
  {
   "cell_type": "code",
   "execution_count": 18,
   "id": "2f8d7406",
   "metadata": {},
   "outputs": [
    {
     "name": "stdout",
     "output_type": "stream",
     "text": [
      "55.2 ns ± 0.163 ns per loop (mean ± std. dev. of 7 runs, 10,000,000 loops each)\n"
     ]
    }
   ],
   "source": [
    "%timeit heavy_function_rust(10)"
   ]
  }
 ],
 "metadata": {
  "kernelspec": {
   "display_name": ".env",
   "language": "python",
   "name": "python3"
  },
  "language_info": {
   "codemirror_mode": {
    "name": "ipython",
    "version": 3
   },
   "file_extension": ".py",
   "mimetype": "text/x-python",
   "name": "python",
   "nbconvert_exporter": "python",
   "pygments_lexer": "ipython3",
   "version": "3.13.2"
  }
 },
 "nbformat": 4,
 "nbformat_minor": 5
}
