{
 "cells": [
  {
   "cell_type": "code",
   "execution_count": 4,
   "id": "7a82b352",
   "metadata": {},
   "outputs": [],
   "source": [
    "from rust_cache import rust_cache\n",
    "from functools import lru_cache\n",
    "import hashlib"
   ]
  },
  {
   "cell_type": "code",
   "execution_count": 5,
   "id": "186cd504",
   "metadata": {},
   "outputs": [],
   "source": [
    "@lru_cache\n",
    "def slow_fib_lru(n):\n",
    "    if n < 2:\n",
    "        return n\n",
    "    return slow_fib_lru(n - 1) + slow_fib_lru(n - 2)"
   ]
  },
  {
   "cell_type": "code",
   "execution_count": 6,
   "id": "ff18c863",
   "metadata": {},
   "outputs": [],
   "source": [
    "@rust_cache\n",
    "def slow_fib_rust(n):\n",
    "    if n < 2:\n",
    "        return n\n",
    "    return slow_fib_rust(n - 1) + slow_fib_rust(n - 2)"
   ]
  },
  {
   "cell_type": "code",
   "execution_count": 7,
   "id": "a5b50539",
   "metadata": {},
   "outputs": [
    {
     "data": {
      "text/plain": [
       "9227465"
      ]
     },
     "execution_count": 7,
     "metadata": {},
     "output_type": "execute_result"
    }
   ],
   "source": [
    "slow_fib_lru(35)"
   ]
  },
  {
   "cell_type": "code",
   "execution_count": 8,
   "id": "b720dfbc",
   "metadata": {},
   "outputs": [
    {
     "name": "stdout",
     "output_type": "stream",
     "text": [
      "65.6 ns ± 2.35 ns per loop (mean ± std. dev. of 7 runs, 10,000,000 loops each)\n"
     ]
    }
   ],
   "source": [
    "%timeit slow_fib_lru(35)"
   ]
  },
  {
   "cell_type": "code",
   "execution_count": 9,
   "id": "726aafd6",
   "metadata": {},
   "outputs": [],
   "source": [
    "# slow_fib_rust(35)"
   ]
  },
  {
   "cell_type": "code",
   "execution_count": 10,
   "id": "8ed1ec53",
   "metadata": {},
   "outputs": [],
   "source": [
    "# %timeit slow_fib_rust(35)"
   ]
  },
  {
   "cell_type": "code",
   "execution_count": 11,
   "id": "74c541da",
   "metadata": {},
   "outputs": [],
   "source": [
    "@lru_cache\n",
    "def expensive_hash_lru(s: str):\n",
    "    for _ in range(100000):\n",
    "        s = hashlib.sha256(s.encode()).hexdigest()\n",
    "    return s"
   ]
  },
  {
   "cell_type": "code",
   "execution_count": 12,
   "id": "4086a17d",
   "metadata": {},
   "outputs": [],
   "source": [
    "@rust_cache\n",
    "def expensive_hash_rust(s: str):\n",
    "    for _ in range(100000):\n",
    "        s = hashlib.sha256(s.encode()).hexdigest()\n",
    "    return s"
   ]
  },
  {
   "cell_type": "code",
   "execution_count": 37,
   "id": "0f28dce4",
   "metadata": {},
   "outputs": [],
   "source": [
    "def expensive_hash(s: str):\n",
    "    for _ in range(100000):\n",
    "        s = hashlib.sha256(s.encode()).hexdigest()\n",
    "    return s"
   ]
  },
  {
   "cell_type": "code",
   "execution_count": 13,
   "id": "f0eee71d",
   "metadata": {},
   "outputs": [
    {
     "data": {
      "text/plain": [
       "'7f84e4ef425e725fa9ed301d99c984e1fe3e8947892f71a428ebcad4fbbca263'"
      ]
     },
     "execution_count": 13,
     "metadata": {},
     "output_type": "execute_result"
    }
   ],
   "source": [
    "expensive_hash_lru(\"Hi, Mom!\")"
   ]
  },
  {
   "cell_type": "code",
   "execution_count": 14,
   "id": "e8926935",
   "metadata": {},
   "outputs": [
    {
     "name": "stdout",
     "output_type": "stream",
     "text": [
      "77.6 ns ± 0.834 ns per loop (mean ± std. dev. of 7 runs, 10,000,000 loops each)\n"
     ]
    }
   ],
   "source": [
    "%timeit expensive_hash_lru(\"Hi, Mom!\")"
   ]
  },
  {
   "cell_type": "code",
   "execution_count": 15,
   "id": "d0088851",
   "metadata": {},
   "outputs": [
    {
     "data": {
      "text/plain": [
       "'7f84e4ef425e725fa9ed301d99c984e1fe3e8947892f71a428ebcad4fbbca263'"
      ]
     },
     "execution_count": 15,
     "metadata": {},
     "output_type": "execute_result"
    }
   ],
   "source": [
    "expensive_hash_rust(\"Hi, Mom!\")"
   ]
  },
  {
   "cell_type": "code",
   "execution_count": 16,
   "id": "b1152260",
   "metadata": {},
   "outputs": [
    {
     "name": "stdout",
     "output_type": "stream",
     "text": [
      "1.43 μs ± 40.5 ns per loop (mean ± std. dev. of 7 runs, 1,000,000 loops each)\n"
     ]
    }
   ],
   "source": [
    "%timeit expensive_hash_rust(\"Hi, Mom!\")"
   ]
  },
  {
   "cell_type": "code",
   "execution_count": 38,
   "id": "f814dcc7",
   "metadata": {},
   "outputs": [
    {
     "name": "stdout",
     "output_type": "stream",
     "text": [
      "88.7 ms ± 891 μs per loop (mean ± std. dev. of 7 runs, 10 loops each)\n"
     ]
    }
   ],
   "source": [
    "%timeit expensive_hash(\"Hi, Mom!\")"
   ]
  },
  {
   "cell_type": "code",
   "execution_count": 17,
   "id": "dbf8fae3",
   "metadata": {},
   "outputs": [],
   "source": [
    "@lru_cache\n",
    "def render_ascii_art_lru(text: str):\n",
    "    result = \"\"\n",
    "    for i in range(10000):\n",
    "        for c in text:\n",
    "            result += f\"{ord(c):03}\"\n",
    "    return result[:100]"
   ]
  },
  {
   "cell_type": "code",
   "execution_count": 18,
   "id": "996e96fe",
   "metadata": {},
   "outputs": [],
   "source": [
    "@rust_cache\n",
    "def render_ascii_art_rust(text: str):\n",
    "    result = \"\"\n",
    "    for i in range(10000):\n",
    "        for c in text:\n",
    "            result += f\"{ord(c):03}\"\n",
    "    return result[:100]"
   ]
  },
  {
   "cell_type": "code",
   "execution_count": 19,
   "id": "4ad2627d",
   "metadata": {},
   "outputs": [],
   "source": [
    "def render_ascii_art(text: str):\n",
    "    result = \"\"\n",
    "    for i in range(10000):\n",
    "        for c in text:\n",
    "            result += f\"{ord(c):03}\"\n",
    "    return result[:100]"
   ]
  },
  {
   "cell_type": "code",
   "execution_count": 20,
   "id": "98c301e0",
   "metadata": {},
   "outputs": [
    {
     "data": {
      "text/plain": [
       "'0761111141011090320991041010451161110321160971090321171221041010321101010321121111091101211170761111'"
      ]
     },
     "execution_count": 20,
     "metadata": {},
     "output_type": "execute_result"
    }
   ],
   "source": [
    "render_ascii_art_lru(\"Lorem che-to tam uzhe ne pomnyu\")"
   ]
  },
  {
   "cell_type": "code",
   "execution_count": 21,
   "id": "e2c50131",
   "metadata": {},
   "outputs": [
    {
     "name": "stdout",
     "output_type": "stream",
     "text": [
      "75.9 ns ± 1.61 ns per loop (mean ± std. dev. of 7 runs, 10,000,000 loops each)\n"
     ]
    }
   ],
   "source": [
    "%timeit render_ascii_art_lru(\"Lorem che-to tam uzhe ne pomnyu\")"
   ]
  },
  {
   "cell_type": "code",
   "execution_count": 22,
   "id": "f7ab0071",
   "metadata": {},
   "outputs": [
    {
     "data": {
      "text/plain": [
       "'0761111141011090320991041010451161110321160971090321171221041010321101010321121111091101211170761111'"
      ]
     },
     "execution_count": 22,
     "metadata": {},
     "output_type": "execute_result"
    }
   ],
   "source": [
    "render_ascii_art_rust(\"Lorem che-to tam uzhe ne pomnyu\")"
   ]
  },
  {
   "cell_type": "code",
   "execution_count": 23,
   "id": "c5cea6e9",
   "metadata": {},
   "outputs": [
    {
     "name": "stdout",
     "output_type": "stream",
     "text": [
      "1.37 μs ± 25.9 ns per loop (mean ± std. dev. of 7 runs, 1,000,000 loops each)\n"
     ]
    }
   ],
   "source": [
    "%timeit render_ascii_art_rust(\"Lorem che-to tam uzhe ne pomnyu\")"
   ]
  },
  {
   "cell_type": "code",
   "execution_count": 24,
   "id": "70340a9a",
   "metadata": {},
   "outputs": [
    {
     "name": "stdout",
     "output_type": "stream",
     "text": [
      "111 ms ± 998 μs per loop (mean ± std. dev. of 7 runs, 10 loops each)\n"
     ]
    }
   ],
   "source": [
    "%timeit render_ascii_art(\"Lorem che-to tam uzhe ne pomnyu\")"
   ]
  },
  {
   "cell_type": "code",
   "execution_count": 25,
   "id": "15cecfee",
   "metadata": {},
   "outputs": [],
   "source": [
    "@lru_cache\n",
    "def expensive_divisors_lru(n):\n",
    "    return [i for i in range(1, n) if n % i == 0]"
   ]
  },
  {
   "cell_type": "code",
   "execution_count": 26,
   "id": "2b464009",
   "metadata": {},
   "outputs": [],
   "source": [
    "@rust_cache\n",
    "def expensive_divisors_rust(n):\n",
    "    return [i for i in range(1, n) if n % i == 0]"
   ]
  },
  {
   "cell_type": "code",
   "execution_count": 27,
   "id": "ea76f2da",
   "metadata": {},
   "outputs": [
    {
     "data": {
      "text/plain": [
       "[1,\n",
       " 2,\n",
       " 4,\n",
       " 5,\n",
       " 8,\n",
       " 10,\n",
       " 16,\n",
       " 20,\n",
       " 25,\n",
       " 32,\n",
       " 40,\n",
       " 50,\n",
       " 64,\n",
       " 80,\n",
       " 100,\n",
       " 125,\n",
       " 128,\n",
       " 160,\n",
       " 200,\n",
       " 250,\n",
       " 256,\n",
       " 320,\n",
       " 400,\n",
       " 500,\n",
       " 512,\n",
       " 625,\n",
       " 640,\n",
       " 800,\n",
       " 1000,\n",
       " 1250,\n",
       " 1280,\n",
       " 1600,\n",
       " 2000,\n",
       " 2500,\n",
       " 2560,\n",
       " 3125,\n",
       " 3200,\n",
       " 4000,\n",
       " 5000,\n",
       " 6250,\n",
       " 6400,\n",
       " 8000,\n",
       " 10000,\n",
       " 12500,\n",
       " 12800,\n",
       " 15625,\n",
       " 16000,\n",
       " 20000,\n",
       " 25000,\n",
       " 31250,\n",
       " 32000,\n",
       " 40000,\n",
       " 50000,\n",
       " 62500,\n",
       " 64000,\n",
       " 78125,\n",
       " 80000,\n",
       " 100000,\n",
       " 125000,\n",
       " 156250,\n",
       " 160000,\n",
       " 200000,\n",
       " 250000,\n",
       " 312500,\n",
       " 320000,\n",
       " 390625,\n",
       " 400000,\n",
       " 500000,\n",
       " 625000,\n",
       " 781250,\n",
       " 800000,\n",
       " 1000000,\n",
       " 1250000,\n",
       " 1562500,\n",
       " 1600000,\n",
       " 1953125,\n",
       " 2000000,\n",
       " 2500000,\n",
       " 3125000,\n",
       " 3906250,\n",
       " 4000000,\n",
       " 5000000,\n",
       " 6250000,\n",
       " 7812500,\n",
       " 8000000,\n",
       " 10000000,\n",
       " 12500000,\n",
       " 15625000,\n",
       " 20000000,\n",
       " 25000000,\n",
       " 31250000,\n",
       " 40000000,\n",
       " 50000000,\n",
       " 62500000,\n",
       " 100000000,\n",
       " 125000000,\n",
       " 200000000,\n",
       " 250000000,\n",
       " 500000000]"
      ]
     },
     "execution_count": 27,
     "metadata": {},
     "output_type": "execute_result"
    }
   ],
   "source": [
    "expensive_divisors_lru(1000000000)"
   ]
  },
  {
   "cell_type": "code",
   "execution_count": 28,
   "id": "a7378f85",
   "metadata": {},
   "outputs": [
    {
     "name": "stdout",
     "output_type": "stream",
     "text": [
      "78.8 ns ± 1.03 ns per loop (mean ± std. dev. of 7 runs, 10,000,000 loops each)\n"
     ]
    }
   ],
   "source": [
    "%timeit expensive_divisors_lru(1000000000)"
   ]
  },
  {
   "cell_type": "code",
   "execution_count": 29,
   "id": "b7960888",
   "metadata": {},
   "outputs": [
    {
     "data": {
      "text/plain": [
       "[1,\n",
       " 2,\n",
       " 4,\n",
       " 5,\n",
       " 8,\n",
       " 10,\n",
       " 16,\n",
       " 20,\n",
       " 25,\n",
       " 32,\n",
       " 40,\n",
       " 50,\n",
       " 64,\n",
       " 80,\n",
       " 100,\n",
       " 125,\n",
       " 128,\n",
       " 160,\n",
       " 200,\n",
       " 250,\n",
       " 256,\n",
       " 320,\n",
       " 400,\n",
       " 500,\n",
       " 512,\n",
       " 625,\n",
       " 640,\n",
       " 800,\n",
       " 1000,\n",
       " 1250,\n",
       " 1280,\n",
       " 1600,\n",
       " 2000,\n",
       " 2500,\n",
       " 2560,\n",
       " 3125,\n",
       " 3200,\n",
       " 4000,\n",
       " 5000,\n",
       " 6250,\n",
       " 6400,\n",
       " 8000,\n",
       " 10000,\n",
       " 12500,\n",
       " 12800,\n",
       " 15625,\n",
       " 16000,\n",
       " 20000,\n",
       " 25000,\n",
       " 31250,\n",
       " 32000,\n",
       " 40000,\n",
       " 50000,\n",
       " 62500,\n",
       " 64000,\n",
       " 78125,\n",
       " 80000,\n",
       " 100000,\n",
       " 125000,\n",
       " 156250,\n",
       " 160000,\n",
       " 200000,\n",
       " 250000,\n",
       " 312500,\n",
       " 320000,\n",
       " 390625,\n",
       " 400000,\n",
       " 500000,\n",
       " 625000,\n",
       " 781250,\n",
       " 800000,\n",
       " 1000000,\n",
       " 1250000,\n",
       " 1562500,\n",
       " 1600000,\n",
       " 1953125,\n",
       " 2000000,\n",
       " 2500000,\n",
       " 3125000,\n",
       " 3906250,\n",
       " 4000000,\n",
       " 5000000,\n",
       " 6250000,\n",
       " 7812500,\n",
       " 8000000,\n",
       " 10000000,\n",
       " 12500000,\n",
       " 15625000,\n",
       " 20000000,\n",
       " 25000000,\n",
       " 31250000,\n",
       " 40000000,\n",
       " 50000000,\n",
       " 62500000,\n",
       " 100000000,\n",
       " 125000000,\n",
       " 200000000,\n",
       " 250000000,\n",
       " 500000000]"
      ]
     },
     "execution_count": 29,
     "metadata": {},
     "output_type": "execute_result"
    }
   ],
   "source": [
    "expensive_divisors_rust(1000000000)"
   ]
  },
  {
   "cell_type": "code",
   "execution_count": 30,
   "id": "b83d1399",
   "metadata": {},
   "outputs": [
    {
     "name": "stdout",
     "output_type": "stream",
     "text": [
      "1.41 μs ± 21.7 ns per loop (mean ± std. dev. of 7 runs, 1,000,000 loops each)\n"
     ]
    }
   ],
   "source": [
    "%timeit expensive_divisors_rust(1000000000)"
   ]
  },
  {
   "cell_type": "code",
   "execution_count": 31,
   "id": "e333ff7d",
   "metadata": {},
   "outputs": [],
   "source": [
    "@lru_cache\n",
    "def heavy_fn_lru(a, b=0):\n",
    "    total = 0\n",
    "    for i in range(10**6):\n",
    "        total += (a + b + i) % 5\n",
    "    return total"
   ]
  },
  {
   "cell_type": "code",
   "execution_count": 32,
   "id": "a299d203",
   "metadata": {},
   "outputs": [],
   "source": [
    "@rust_cache\n",
    "def heavy_fn_rust(a, b=0):\n",
    "    total = 0\n",
    "    for i in range(10**6):\n",
    "        total += (a + b + i) % 5\n",
    "    return total"
   ]
  },
  {
   "cell_type": "code",
   "execution_count": 33,
   "id": "ab6747f3",
   "metadata": {},
   "outputs": [
    {
     "data": {
      "text/plain": [
       "2000000"
      ]
     },
     "execution_count": 33,
     "metadata": {},
     "output_type": "execute_result"
    }
   ],
   "source": [
    "heavy_fn_lru(10, b=190)"
   ]
  },
  {
   "cell_type": "code",
   "execution_count": 34,
   "id": "ab6cdfc7",
   "metadata": {},
   "outputs": [
    {
     "name": "stdout",
     "output_type": "stream",
     "text": [
      "215 ns ± 5.78 ns per loop (mean ± std. dev. of 7 runs, 1,000,000 loops each)\n"
     ]
    }
   ],
   "source": [
    "%timeit heavy_fn_lru(10, b=190)"
   ]
  },
  {
   "cell_type": "code",
   "execution_count": 35,
   "id": "e1d32d0b",
   "metadata": {},
   "outputs": [
    {
     "data": {
      "text/plain": [
       "2000000"
      ]
     },
     "execution_count": 35,
     "metadata": {},
     "output_type": "execute_result"
    }
   ],
   "source": [
    "heavy_fn_rust(10, b=190)"
   ]
  },
  {
   "cell_type": "code",
   "execution_count": 36,
   "id": "d0c531bf",
   "metadata": {},
   "outputs": [
    {
     "name": "stdout",
     "output_type": "stream",
     "text": [
      "2.77 μs ± 49.8 ns per loop (mean ± std. dev. of 7 runs, 100,000 loops each)\n"
     ]
    }
   ],
   "source": [
    "%timeit heavy_fn_rust(10, b=190)"
   ]
  }
 ],
 "metadata": {
  "kernelspec": {
   "display_name": ".env",
   "language": "python",
   "name": "python3"
  },
  "language_info": {
   "codemirror_mode": {
    "name": "ipython",
    "version": 3
   },
   "file_extension": ".py",
   "mimetype": "text/x-python",
   "name": "python",
   "nbconvert_exporter": "python",
   "pygments_lexer": "ipython3",
   "version": "3.13.2"
  }
 },
 "nbformat": 4,
 "nbformat_minor": 5
}
